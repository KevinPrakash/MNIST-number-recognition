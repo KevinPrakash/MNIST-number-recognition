{
  "nbformat": 4,
  "nbformat_minor": 0,
  "metadata": {
    "colab": {
      "name": "Copy of CII-MNIST",
      "version": "0.3.2",
      "provenance": [],
      "collapsed_sections": [],
      "include_colab_link": true
    },
    "kernelspec": {
      "name": "python3",
      "display_name": "Python 3"
    },
    "accelerator": "GPU"
  },
  "cells": [
    {
      "cell_type": "markdown",
      "metadata": {
        "id": "view-in-github",
        "colab_type": "text"
      },
      "source": [
        "[View in Colaboratory](https://colab.research.google.com/github/Kp30091998/MNIST-number-recognition/blob/master/CII_MNIST.ipynb)"
      ]
    },
    {
      "metadata": {
        "id": "YuddNxhTWOkY",
        "colab_type": "text"
      },
      "cell_type": "markdown",
      "source": [
        "# MNIST DATA\n"
      ]
    },
    {
      "metadata": {
        "id": "MTv8OFhFAo4j",
        "colab_type": "text"
      },
      "cell_type": "markdown",
      "source": [
        "\n",
        "The MNIST data set is a standard dataset comprising of images of handwritten digits. The following is a CNN implementation over the MNIST data and it would be desired to have a GPU to train the model faster. From the Menu choose:\n",
        "  \n",
        "  Runtime->Change runtime type \n",
        "  \n",
        "  and from the hardware accelerator dropdown, choose GPU"
      ]
    },
    {
      "metadata": {
        "id": "sf639uwEGxpo",
        "colab_type": "code",
        "colab": {
          "base_uri": "https://localhost:8080/",
          "height": 87
        },
        "outputId": "9cf8e6ec-effe-47d8-ebd9-2975fe955ebb"
      },
      "cell_type": "code",
      "source": [
        "# importing libs\n",
        "import keras\n",
        "import tensorflow as tf\n",
        "import numpy as np\n",
        "import matplotlib.pyplot as plt\n",
        "from keras.models import Sequential\n",
        "from keras.layers import Conv2D, Dense, Activation, MaxPooling2D\n",
        "from keras import losses\n",
        "\n",
        "def load_data():\n",
        "  # Load training and eval data\n",
        "    mnist = tf.contrib.learn.datasets.load_dataset(\"mnist\")\n",
        "    train_data = mnist.train.images # Returns np.array\n",
        "    train_labels = np.asarray(mnist.train.labels, dtype=np.int32)\n",
        "    test_data = mnist.test.images # Returns np.array\n",
        "    test_labels = np.asarray(mnist.test.labels, dtype=np.int32)\n",
        "    return train_data, train_labels, test_data, test_labels\n",
        "\n",
        "train_data, train_labels, test_data, test_labels = load_data()"
      ],
      "execution_count": 2,
      "outputs": [
        {
          "output_type": "stream",
          "text": [
            "Extracting MNIST-data/train-images-idx3-ubyte.gz\n",
            "Extracting MNIST-data/train-labels-idx1-ubyte.gz\n",
            "Extracting MNIST-data/t10k-images-idx3-ubyte.gz\n",
            "Extracting MNIST-data/t10k-labels-idx1-ubyte.gz\n"
          ],
          "name": "stdout"
        }
      ]
    },
    {
      "metadata": {
        "id": "uMs0pmOFG4QT",
        "colab_type": "code",
        "colab": {
          "base_uri": "https://localhost:8080/",
          "height": 347
        },
        "outputId": "56f67734-71d2-459b-80cd-aaa52c4ace1a"
      },
      "cell_type": "code",
      "source": [
        "some_digit = train_data[2] #choose some digit\n",
        "some_digit_image = some_digit.reshape(28,28) # the images are stored in a 1-d array. reshape to square to visualize them as images\n",
        "plt.imshow(some_digit_image,cmap = plt.cm.binary)\n",
        "plt.show()"
      ],
      "execution_count": 0,
      "outputs": [
        {
          "output_type": "display_data",
          "data": {
            "image/png": "[encoded data removed]",
            "text/plain": [
              "<matplotlib.figure.Figure at 0x7f246fe94390>"
            ]
          },
          "metadata": {
            "tags": []
          }
        }
      ]
    },
    {
      "metadata": {
        "id": "nneWxrp9Wh2e",
        "colab_type": "text"
      },
      "cell_type": "markdown",
      "source": [
        "# Creating a Model using Keras\n",
        "We shall be using the Sequential API of keras. This provides for a simple way to build models where layers are sequentially stacked."
      ]
    },
    {
      "metadata": {
        "id": "BKmVRpB5G4rb",
        "colab_type": "code",
        "colab": {}
      },
      "cell_type": "code",
      "source": [
        "#Reshaping so as to comply with the requirements of One hot encoder.\n",
        "train_labels_reshaped = train_labels.reshape(-1,1)\n",
        "test_labels_reshaped = test_labels.reshape(-1,1)\n",
        "\n",
        "from sklearn.preprocessing import OneHotEncoder\n",
        "enc = OneHotEncoder()\n",
        "train_L = enc.fit_transform(train_labels_reshaped).toarray()\n",
        "test_L = enc.transform(test_labels_reshaped).toarray()\n",
        "\n",
        "#Model Building\n",
        "adam = keras.optimizers.Adam()\n",
        "model = Sequential()\n",
        "model.add(Conv2D(filters = 32, kernel_size = [5,5], padding='same', activation='relu', input_shape = (28,28,1)))\n",
        "model.add(MaxPooling2D(pool_size=(2, 2), strides=(2,2), padding='same'))\n",
        "model.add(Conv2D(filters = 64, kernel_size = [5,5], padding='same', activation='relu'))\n",
        "model.add(MaxPooling2D(pool_size=(2, 2), strides=(2,2), padding='same'))\n",
        "model.add(keras.layers.Reshape([3136]))\n",
        "model.add(Dense(10, activation='softmax'))\n",
        "\n",
        "model.compile(loss=losses.categorical_crossentropy, optimizer=adam,metrics=['accuracy']) #loss = 'categorical_crossentropy'\n"
      ],
      "execution_count": 0,
      "outputs": []
    },
    {
      "metadata": {
        "id": "sENw7a4bH2Kc",
        "colab_type": "code",
        "colab": {}
      },
      "cell_type": "code",
      "source": [
        "#choose sample size.\n",
        "train_sample = train_data[:50000]\n",
        "labels_sample = train_L[:50000]\n",
        "\n",
        "valid_sample = train_data[50000:]\n",
        "labels_validsample = train_L[50000:]\n",
        "\n",
        "train_sample_ = np.reshape(train_sample,[-1,28,28,1])\n",
        "valid_sample_ = np.reshape(valid_sample,[-1,28,28,1])"
      ],
      "execution_count": 0,
      "outputs": []
    },
    {
      "metadata": {
        "id": "QhtsPC_aaAlP",
        "colab_type": "text"
      },
      "cell_type": "markdown",
      "source": [
        "Visualize some images and their corresponding one-hot encoded labels:"
      ]
    },
    {
      "metadata": {
        "id": "lz9iew9xH8Xj",
        "colab_type": "code",
        "colab": {
          "base_uri": "https://localhost:8080/",
          "height": 677
        },
        "outputId": "634cc5d9-969a-4882-b55e-d08ea7b05a1c"
      },
      "cell_type": "code",
      "source": [
        "some_digit_list = train_sample[:2]\n",
        "for some_digit in some_digit_list:\n",
        "    some_digit_image = some_digit.reshape(28,28) # reshape to square\n",
        "    plt.imshow(some_digit_image,cmap = plt.cm.binary)\n",
        "    # plt.axis(\"off\")\n",
        "    plt.show()"
      ],
      "execution_count": 0,
      "outputs": [
        {
          "output_type": "display_data",
          "data": {
            "image/png": "[encoded data removed]",
            "text/plain": [
              "<matplotlib.figure.Figure at 0x7f2422bf2ba8>"
            ]
          },
          "metadata": {
            "tags": []
          }
        },
        {
          "output_type": "display_data",
          "data": {
            "image/png": "[encoded data removed]",
            "text/plain": [
              "<matplotlib.figure.Figure at 0x7f2422b43748>"
            ]
          },
          "metadata": {
            "tags": []
          }
        }
      ]
    },
    {
      "metadata": {
        "id": "EEo_1keyIBHz",
        "colab_type": "code",
        "colab": {
          "base_uri": "https://localhost:8080/",
          "height": 51
        },
        "outputId": "c6b6ab11-a0d3-4cf3-bd87-abe8414c08da"
      },
      "cell_type": "code",
      "source": [
        "labels_sample[:2] #One hot encoded labels corresponding to the above two digit-images."
      ],
      "execution_count": 0,
      "outputs": [
        {
          "output_type": "execute_result",
          "data": {
            "text/plain": [
              "array([[0., 0., 0., 0., 0., 0., 0., 1., 0., 0.],\n",
              "       [0., 0., 0., 1., 0., 0., 0., 0., 0., 0.]])"
            ]
          },
          "metadata": {
            "tags": []
          },
          "execution_count": 12
        }
      ]
    },
    {
      "metadata": {
        "id": "YG808dGnaKtp",
        "colab_type": "text"
      },
      "cell_type": "markdown",
      "source": [
        "# Model Training\n",
        "To train the model we pass the training images, the training labels (supervised learning)\n",
        "\n",
        "To check the performance of the model during training, we also provide the validation data.\n",
        "\n",
        "A batch size ~ number of images it processes at a time. This depends on the memory. Try out a large value where it fails.\n",
        "\n",
        "Epoch ~ The number of times the entire dataset is visited during training,"
      ]
    },
    {
      "metadata": {
        "id": "kJipSG91IL_D",
        "colab_type": "code",
        "colab": {
          "base_uri": "https://localhost:8080/",
          "height": 391
        },
        "outputId": "5801b4f6-2617-4cf3-f710-405c4fe7df8d"
      },
      "cell_type": "code",
      "source": [
        "model.fit(train_sample_, labels_sample, epochs=10, batch_size=5000, validation_data=(valid_sample_,labels_validsample))"
      ],
      "execution_count": 0,
      "outputs": [
        {
          "output_type": "stream",
          "text": [
            "Train on 50000 samples, validate on 5000 samples\n",
            "Epoch 1/10\n",
            "50000/50000 [==============================] - 4s 77us/step - loss: 0.0728 - acc: 0.9770 - val_loss: 0.0563 - val_acc: 0.9840\n",
            "Epoch 2/10\n",
            "50000/50000 [==============================] - 3s 56us/step - loss: 0.0682 - acc: 0.9783 - val_loss: 0.0460 - val_acc: 0.9862\n",
            "Epoch 3/10\n",
            "50000/50000 [==============================] - 3s 56us/step - loss: 0.0542 - acc: 0.9824 - val_loss: 0.0404 - val_acc: 0.9886\n",
            "Epoch 4/10\n",
            "50000/50000 [==============================] - 3s 56us/step - loss: 0.0481 - acc: 0.9847 - val_loss: 0.0388 - val_acc: 0.9890\n",
            "Epoch 5/10\n",
            "50000/50000 [==============================] - 3s 56us/step - loss: 0.0459 - acc: 0.9855 - val_loss: 0.0382 - val_acc: 0.9892\n",
            "Epoch 6/10\n",
            "50000/50000 [==============================] - 3s 56us/step - loss: 0.0447 - acc: 0.9862 - val_loss: 0.0377 - val_acc: 0.9892\n",
            "Epoch 7/10\n",
            "50000/50000 [==============================] - 3s 56us/step - loss: 0.0436 - acc: 0.9866 - val_loss: 0.0372 - val_acc: 0.9894\n",
            "Epoch 8/10\n",
            "50000/50000 [==============================] - 3s 56us/step - loss: 0.0428 - acc: 0.9868 - val_loss: 0.0368 - val_acc: 0.9898\n",
            "Epoch 9/10\n",
            "50000/50000 [==============================] - 3s 56us/step - loss: 0.0420 - acc: 0.9871 - val_loss: 0.0364 - val_acc: 0.9900\n",
            "Epoch 10/10\n",
            "50000/50000 [==============================] - 3s 56us/step - loss: 0.0414 - acc: 0.9872 - val_loss: 0.0361 - val_acc: 0.9902\n"
          ],
          "name": "stdout"
        },
        {
          "output_type": "execute_result",
          "data": {
            "text/plain": [
              "<keras.callbacks.History at 0x7f23dd35a400>"
            ]
          },
          "metadata": {
            "tags": []
          },
          "execution_count": 18
        }
      ]
    },
    {
      "metadata": {
        "id": "Hp9s8DYybrVU",
        "colab_type": "text"
      },
      "cell_type": "markdown",
      "source": [
        "# Testing the performance\n",
        "For the testing, we would not show are labels to the model but only use it to compare with our predictions."
      ]
    },
    {
      "metadata": {
        "id": "jKGaz1p8IqU6",
        "colab_type": "code",
        "colab": {
          "base_uri": "https://localhost:8080/",
          "height": 677
        },
        "outputId": "41c49b85-a70d-47f5-abcd-dc8574231842"
      },
      "cell_type": "code",
      "source": [
        "test_data_ = np.reshape(test_data,[-1,28,28,1]) #reshaping to visualize the 1D array as a 2d- image\n",
        "preds = model.predict(test_data_)\n",
        "\n",
        "#for each image in test data, the model predicts the probabilities of the image being a digit from 0 to 9\n",
        "pred_label = [np.argmax(x) for x in preds]\n",
        "\n",
        "some_digit_list = test_data[1:3]\n",
        "for some_digit in some_digit_list:\n",
        "    some_digit_image = some_digit.reshape(28,28) # reshape to square\n",
        "    plt.imshow(some_digit_image,cmap = plt.cm.binary)\n",
        "    plt.show()"
      ],
      "execution_count": 0,
      "outputs": [
        {
          "output_type": "display_data",
          "data": {
            "image/png": "[encoded data removed]",
            "text/plain": [
              "<matplotlib.figure.Figure at 0x7f23dd35a630>"
            ]
          },
          "metadata": {
            "tags": []
          }
        },
        {
          "output_type": "display_data",
          "data": {
            "image/png": "[encoded data removed]",
            "text/plain": [
              "<matplotlib.figure.Figure at 0x7f23dd2b6c18>"
            ]
          },
          "metadata": {
            "tags": []
          }
        }
      ]
    },
    {
      "metadata": {
        "id": "VEMj4jxggNQQ",
        "colab_type": "code",
        "colab": {
          "base_uri": "https://localhost:8080/",
          "height": 34
        },
        "outputId": "28ed7061-48ee-428c-e2b3-1f1667377839"
      },
      "cell_type": "code",
      "source": [
        "pred_label[1:3]"
      ],
      "execution_count": 0,
      "outputs": [
        {
          "output_type": "execute_result",
          "data": {
            "text/plain": [
              "[2, 1]"
            ]
          },
          "metadata": {
            "tags": []
          },
          "execution_count": 21
        }
      ]
    },
    {
      "metadata": {
        "id": "6CaF7disc1rt",
        "colab_type": "text"
      },
      "cell_type": "markdown",
      "source": [
        "The model seems to be doing fine over some randomly selected data points, but to get a quantitative metric, lets check over all the data points."
      ]
    },
    {
      "metadata": {
        "id": "7u02GK5IgQOE",
        "colab_type": "code",
        "colab": {}
      },
      "cell_type": "code",
      "source": [
        "accuracy = 0\n",
        "for pred,actual in zip(pred_label, test_labels):\n",
        "  if pred == actual:\n",
        "    accuracy+=1\n",
        "accuracy = 1.0* accuracy/len(test_labels)"
      ],
      "execution_count": 0,
      "outputs": []
    },
    {
      "metadata": {
        "id": "jaa5jR9Ncorr",
        "colab_type": "code",
        "colab": {
          "base_uri": "https://localhost:8080/",
          "height": 34
        },
        "outputId": "4ab80edf-1c3c-4e05-d31e-c986f32233bc"
      },
      "cell_type": "code",
      "source": [
        "accuracy"
      ],
      "execution_count": 0,
      "outputs": [
        {
          "output_type": "execute_result",
          "data": {
            "text/plain": [
              "0.9863"
            ]
          },
          "metadata": {
            "tags": []
          },
          "execution_count": 25
        }
      ]
    },
    {
      "metadata": {
        "id": "Q2AYTwMZdEs4",
        "colab_type": "text"
      },
      "cell_type": "markdown",
      "source": [
        "Which are the failed cases? Can we check those? Could you further improve the performance?"
      ]
    },
    {
      "metadata": {
        "id": "9j6KnpgrcuAi",
        "colab_type": "code",
        "colab": {}
      },
      "cell_type": "code",
      "source": [
        ""
      ],
      "execution_count": 0,
      "outputs": []
    }
  ]
}